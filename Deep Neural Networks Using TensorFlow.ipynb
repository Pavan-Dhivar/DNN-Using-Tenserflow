{
 "cells": [
  {
   "cell_type": "markdown",
   "metadata": {},
   "source": [
    "# Deep Learning with TensorFlow\n",
    "\n",
    "Classical machine learning relies on using statistics to determine relationships between features and labels, and can be very effective for creating predictive models. However, a massive growth in the availability of data coupled with advances in the computing technology required to process it has led to the emergence of new machine learning techniques that mimic the way the brain processes information in a structure called an artificial neural network.\n",
    "\n",
    "TensorFlow is a framework for creating machine learning models, including deep neural networks (DNNs). In this example, we'll use Tensorflow to create a simple neural network that classifies penguins into species based on the length and depth of their culmen (bill), their flipper length, and their body mass.\n",
    "\n",
    "> **Citation**: The penguins dataset used in the this exercise is a subset of data collected and made available by [Dr. Kristen\n",
    "Gorman](https://www.uaf.edu/cfos/people/faculty/detail/kristen-gorman.php)\n",
    "and the [Palmer Station, Antarctica LTER](https://pal.lternet.edu/), a\n",
    "member of the [Long Term Ecological Research\n",
    "Network](https://lternet.edu/).\n",
    "\n",
    "## Explore the dataset\n",
    "\n",
    "Before we start using TensorFlow to create a model, let's load the data we need from the Palmer Islands penguins dataset, which contains observations of three different species of penguin.\n",
    "\n",
    "> **Note**: In reality, you can solve the penguin classification problem easily using classical machine learning techniques without the need for a deep learning model; but it's a useful, easy to understand dataset with which to demonstrate the principles of neural networks in this notebook."
   ]
  },
  {
   "cell_type": "code",
   "execution_count": 1,
   "metadata": {},
   "outputs": [],
   "source": [
    "import pandas as pd \n",
    "penguins = pd.read_csv(r\"C:\\Users\\Pavan\\Pavan dsml\\penguins.csv\")\n",
    "penguins.head()\n",
    "penguins = penguins.dropna()"
   ]
  },
  {
   "cell_type": "code",
   "execution_count": 2,
   "metadata": {},
   "outputs": [
    {
     "name": "stdout",
     "output_type": "stream",
     "text": [
      "     CulmenLength  CulmenDepth  FlipperLength  BodyMass  Species\n",
      "11           40.2         20.1           20.0     39.75        0\n",
      "367          46.2         17.5           18.7     36.50        2\n",
      "388          47.5         14.2           20.9     46.00        1\n",
      "646          36.3         19.5           19.0     38.00        0\n",
      "553          47.6         18.3           19.5     38.50        2\n",
      "587          34.6         17.2           18.9     32.00        0\n",
      "504          39.3         20.6           19.0     36.50        0\n",
      "655          37.6         17.0           18.5     36.00        0\n",
      "465          39.6         18.8           19.0     46.00        0\n",
      "254          48.1         16.4           19.9     33.25        2\n"
     ]
    }
   ],
   "source": [
    "import pandas as pd\n",
    "\n",
    "# Load the training dataset (excluding rows with null values)\n",
    "# penguins = pd.read_csv(r\"‪C:\\Users\\Pavan\\Pavan dsml\\penguins.csv\").dropna()\n",
    "\n",
    "# Deep Learning models work best when features are on similar scales\n",
    "# In a real solution, we'd implement some custom normalization for each feature, but to keep things simple\n",
    "# we'll just rescale the FlipperLength and BodyMass so they're on a similar scale to the bill measurements\n",
    "penguins['FlipperLength'] = penguins['FlipperLength'] / 10\n",
    "penguins['BodyMass'] = penguins['BodyMass'] / 100\n",
    "\n",
    "# The dataset is too small to be useful for deep learning\n",
    "# So we'll oversample it to increase its size\n",
    "oversampled_penguins = pd.concat([penguins.sample(frac=1, replace=True) for _ in range(2)], ignore_index=True)\n",
    "\n",
    "# Display a random sample of 10 observations\n",
    "sample = oversampled_penguins.sample(10)\n",
    "print(sample)\n"
   ]
  },
  {
   "cell_type": "markdown",
   "metadata": {},
   "source": [
    "The **Species** column is the label our model will predict. Each label value represents a class of penguin species, encoded as 0, 1, or 2. The following code shows the actual species to which these class labels corrrespond."
   ]
  },
  {
   "cell_type": "code",
   "execution_count": 3,
   "metadata": {
    "tags": []
   },
   "outputs": [
    {
     "name": "stdout",
     "output_type": "stream",
     "text": [
      "['CulmenLength' 'CulmenDepth' 'FlipperLength' 'BodyMass' 'Species'] SpeciesName\n",
      "[ 40.9 13.7 21.4 46.5 1 ] Gentoo\n",
      "[ 39.7 17.7 19.3 32.0 0 ] Adelie\n",
      "[ 52.2 17.1 22.8 54.0 1 ] Gentoo\n",
      "[ 42.8 14.2 20.9 47.0 1 ] Gentoo\n",
      "[ 49.1 14.5 21.2 46.25 1 ] Gentoo\n",
      "[ 37.6 19.3 18.1 33.0 0 ] Adelie\n",
      "[ 50.4 15.3 22.4 55.5 1 ] Gentoo\n",
      "[ 45.7 17.0 19.5 36.5 2 ] Chinstrap\n",
      "[ 49.4 15.8 21.6 49.25 1 ] Gentoo\n",
      "[ 35.7 18.0 20.2 35.5 0 ] Adelie\n"
     ]
    },
    {
     "name": "stderr",
     "output_type": "stream",
     "text": [
      "C:\\Users\\Pavan\\AppData\\Local\\Temp\\ipykernel_32716\\3285247502.py:4: FutureWarning: Series.__getitem__ treating keys as positions is deprecated. In a future version, integer keys will always be treated as labels (consistent with DataFrame behavior). To access a value by position, use `ser.iloc[pos]`\n",
      "  print('[',row[0], row[1], row[2],row[3], int(row[4]), ']',penguin_classes[int(row[-1])])\n"
     ]
    }
   ],
   "source": [
    "penguin_classes = ['Adelie', 'Gentoo', 'Chinstrap']\n",
    "print(sample.columns[0:5].values, 'SpeciesName')\n",
    "for index, row in penguins.sample(10).iterrows():\n",
    "    print('[',row[0], row[1], row[2],row[3], int(row[4]), ']',penguin_classes[int(row[-1])])"
   ]
  },
  {
   "cell_type": "markdown",
   "metadata": {},
   "source": [
    "As is common in a supervised learning problem, we'll split the dataset into a set of records with which to train the model, and a smaller set with which to validate the trained model."
   ]
  },
  {
   "cell_type": "code",
   "execution_count": 4,
   "metadata": {
    "tags": []
   },
   "outputs": [
    {
     "name": "stdout",
     "output_type": "stream",
     "text": [
      "Training Set: 239, Test Set: 103 \n",
      "\n",
      "Sample of features and labels:\n",
      "[36.4  17.   19.5  33.25] 0 (Adelie)\n",
      "[49.  19.6 21.2 43. ] 2 (Chinstrap)\n",
      "[38.2 20.  19.  39. ] 0 (Adelie)\n",
      "[39.2 21.1 19.6 41.5] 0 (Adelie)\n",
      "[49.7 18.6 19.5 36. ] 2 (Chinstrap)\n",
      "[33.1 16.1 17.8 29. ] 0 (Adelie)\n",
      "[36.3 19.5 19.  38. ] 0 (Adelie)\n",
      "[50.1 15.  22.5 50. ] 1 (Gentoo)\n",
      "[50.4 15.3 22.4 55.5] 1 (Gentoo)\n",
      "[46.7 15.3 21.9 52. ] 1 (Gentoo)\n",
      "[41.1  19.   18.2  34.25] 0 (Adelie)\n",
      "[41.1 17.5 19.  39. ] 0 (Adelie)\n",
      "[50.7 15.  22.3 55.5] 1 (Gentoo)\n",
      "[52.  20.7 21.  48. ] 2 (Chinstrap)\n",
      "[50.8 17.3 22.8 56. ] 1 (Gentoo)\n",
      "[50.  15.9 22.4 53.5] 1 (Gentoo)\n",
      "[43.2  19.   19.7  47.75] 0 (Adelie)\n",
      "[45.2 16.4 22.3 59.5] 1 (Gentoo)\n",
      "[41.1 18.1 20.5 43. ] 0 (Adelie)\n",
      "[37.5  18.9  17.9  29.75] 0 (Adelie)\n",
      "[47.2  13.7  21.4  49.25] 1 (Gentoo)\n",
      "[49.3 19.9 20.3 40.5] 2 (Chinstrap)\n",
      "[48.6 16.  23.  58. ] 1 (Gentoo)\n",
      "[35.5 17.5 19.  37. ] 0 (Adelie)\n"
     ]
    }
   ],
   "source": [
    "from sklearn.model_selection import train_test_split\n",
    "\n",
    "features = ['CulmenLength','CulmenDepth','FlipperLength','BodyMass']\n",
    "label = 'Species'\n",
    "   \n",
    "# Split data 70%-30% into training set and test set\n",
    "x_train, x_test, y_train, y_test = train_test_split(penguins[features].values,\n",
    "                                                    penguins[label].values,\n",
    "                                                    test_size=0.30,\n",
    "                                                    random_state=0)\n",
    "\n",
    "print ('Training Set: %d, Test Set: %d \\n' % (len(x_train), len(x_test)))\n",
    "print(\"Sample of features and labels:\")\n",
    "\n",
    "# Take a look at the first 25 training features and corresponding labels\n",
    "for n in range(0,24):\n",
    "    print(x_train[n], y_train[n], '(' + penguin_classes[y_train[n]] + ')')"
   ]
  },
  {
   "cell_type": "markdown",
   "metadata": {},
   "source": [
    "The *features* are the measurements for each penguin observation, and the *label* is a numeric value that indicates the species of penguin that the observation represents (Adelie, Gentoo, or Chinstrap).\n",
    "\n",
    "## Install and import TensorFlow libraries\n",
    "\n",
    "Since we plan to use TensorFlow to create our penguin classifier, we'll need to run the following two cells to install and import the libraries we intend to use.\n",
    "\n",
    "> **Note** *Keras* is an abstraction layer over the base TensorFlow API. In most common machine learning scenarios, you can use Keras to simplify your code."
   ]
  },
  {
   "cell_type": "code",
   "execution_count": 5,
   "metadata": {},
   "outputs": [
    {
     "name": "stdout",
     "output_type": "stream",
     "text": [
      "Requirement already satisfied: tensorflow in c:\\users\\pavan\\appdata\\local\\programs\\python\\python310\\lib\\site-packages (2.15.0)\n",
      "Requirement already satisfied: tensorflow-intel==2.15.0 in c:\\users\\pavan\\appdata\\local\\programs\\python\\python310\\lib\\site-packages (from tensorflow) (2.15.0)\n",
      "Requirement already satisfied: absl-py>=1.0.0 in c:\\users\\pavan\\appdata\\local\\programs\\python\\python310\\lib\\site-packages (from tensorflow-intel==2.15.0->tensorflow) (2.0.0)\n",
      "Requirement already satisfied: astunparse>=1.6.0 in c:\\users\\pavan\\appdata\\local\\programs\\python\\python310\\lib\\site-packages (from tensorflow-intel==2.15.0->tensorflow) (1.6.3)\n",
      "Requirement already satisfied: flatbuffers>=23.5.26 in c:\\users\\pavan\\appdata\\local\\programs\\python\\python310\\lib\\site-packages (from tensorflow-intel==2.15.0->tensorflow) (23.5.26)\n",
      "Requirement already satisfied: gast!=0.5.0,!=0.5.1,!=0.5.2,>=0.2.1 in c:\\users\\pavan\\appdata\\local\\programs\\python\\python310\\lib\\site-packages (from tensorflow-intel==2.15.0->tensorflow) (0.5.4)\n",
      "Requirement already satisfied: google-pasta>=0.1.1 in c:\\users\\pavan\\appdata\\local\\programs\\python\\python310\\lib\\site-packages (from tensorflow-intel==2.15.0->tensorflow) (0.2.0)\n",
      "Requirement already satisfied: h5py>=2.9.0 in c:\\users\\pavan\\appdata\\local\\programs\\python\\python310\\lib\\site-packages (from tensorflow-intel==2.15.0->tensorflow) (3.10.0)\n",
      "Requirement already satisfied: libclang>=13.0.0 in c:\\users\\pavan\\appdata\\local\\programs\\python\\python310\\lib\\site-packages (from tensorflow-intel==2.15.0->tensorflow) (16.0.6)\n",
      "Requirement already satisfied: ml-dtypes~=0.2.0 in c:\\users\\pavan\\appdata\\local\\programs\\python\\python310\\lib\\site-packages (from tensorflow-intel==2.15.0->tensorflow) (0.2.0)\n",
      "Requirement already satisfied: numpy<2.0.0,>=1.23.5 in c:\\users\\pavan\\appdata\\local\\programs\\python\\python310\\lib\\site-packages (from tensorflow-intel==2.15.0->tensorflow) (1.23.5)\n",
      "Requirement already satisfied: opt-einsum>=2.3.2 in c:\\users\\pavan\\appdata\\local\\programs\\python\\python310\\lib\\site-packages (from tensorflow-intel==2.15.0->tensorflow) (3.3.0)\n",
      "Requirement already satisfied: packaging in c:\\users\\pavan\\appdata\\roaming\\python\\python310\\site-packages (from tensorflow-intel==2.15.0->tensorflow) (21.3)\n",
      "Requirement already satisfied: protobuf!=4.21.0,!=4.21.1,!=4.21.2,!=4.21.3,!=4.21.4,!=4.21.5,<5.0.0dev,>=3.20.3 in c:\\users\\pavan\\appdata\\local\\programs\\python\\python310\\lib\\site-packages (from tensorflow-intel==2.15.0->tensorflow) (4.23.4)\n",
      "Requirement already satisfied: setuptools in c:\\users\\pavan\\appdata\\local\\programs\\python\\python310\\lib\\site-packages (from tensorflow-intel==2.15.0->tensorflow) (63.2.0)\n",
      "Requirement already satisfied: six>=1.12.0 in c:\\users\\pavan\\appdata\\local\\programs\\python\\python310\\lib\\site-packages (from tensorflow-intel==2.15.0->tensorflow) (1.16.0)\n",
      "Requirement already satisfied: termcolor>=1.1.0 in c:\\users\\pavan\\appdata\\local\\programs\\python\\python310\\lib\\site-packages (from tensorflow-intel==2.15.0->tensorflow) (2.4.0)\n",
      "Requirement already satisfied: typing-extensions>=3.6.6 in c:\\users\\pavan\\appdata\\local\\programs\\python\\python310\\lib\\site-packages (from tensorflow-intel==2.15.0->tensorflow) (4.6.3)\n",
      "Requirement already satisfied: wrapt<1.15,>=1.11.0 in c:\\users\\pavan\\appdata\\local\\programs\\python\\python310\\lib\\site-packages (from tensorflow-intel==2.15.0->tensorflow) (1.14.1)\n",
      "Requirement already satisfied: tensorflow-io-gcs-filesystem>=0.23.1 in c:\\users\\pavan\\appdata\\local\\programs\\python\\python310\\lib\\site-packages (from tensorflow-intel==2.15.0->tensorflow) (0.31.0)\n",
      "Requirement already satisfied: grpcio<2.0,>=1.24.3 in c:\\users\\pavan\\appdata\\local\\programs\\python\\python310\\lib\\site-packages (from tensorflow-intel==2.15.0->tensorflow) (1.60.0)\n",
      "Requirement already satisfied: tensorboard<2.16,>=2.15 in c:\\users\\pavan\\appdata\\local\\programs\\python\\python310\\lib\\site-packages (from tensorflow-intel==2.15.0->tensorflow) (2.15.1)\n",
      "Requirement already satisfied: tensorflow-estimator<2.16,>=2.15.0 in c:\\users\\pavan\\appdata\\local\\programs\\python\\python310\\lib\\site-packages (from tensorflow-intel==2.15.0->tensorflow) (2.15.0)\n",
      "Requirement already satisfied: keras<2.16,>=2.15.0 in c:\\users\\pavan\\appdata\\local\\programs\\python\\python310\\lib\\site-packages (from tensorflow-intel==2.15.0->tensorflow) (2.15.0)\n",
      "Requirement already satisfied: wheel<1.0,>=0.23.0 in c:\\users\\pavan\\appdata\\local\\programs\\python\\python310\\lib\\site-packages (from astunparse>=1.6.0->tensorflow-intel==2.15.0->tensorflow) (0.38.4)\n",
      "Requirement already satisfied: google-auth<3,>=1.6.3 in c:\\users\\pavan\\appdata\\local\\programs\\python\\python310\\lib\\site-packages (from tensorboard<2.16,>=2.15->tensorflow-intel==2.15.0->tensorflow) (2.26.1)\n",
      "Requirement already satisfied: google-auth-oauthlib<2,>=0.5 in c:\\users\\pavan\\appdata\\local\\programs\\python\\python310\\lib\\site-packages (from tensorboard<2.16,>=2.15->tensorflow-intel==2.15.0->tensorflow) (1.2.0)\n",
      "Requirement already satisfied: markdown>=2.6.8 in c:\\users\\pavan\\appdata\\local\\programs\\python\\python310\\lib\\site-packages (from tensorboard<2.16,>=2.15->tensorflow-intel==2.15.0->tensorflow) (3.4.3)\n",
      "Requirement already satisfied: requests<3,>=2.21.0 in c:\\users\\pavan\\appdata\\local\\programs\\python\\python310\\lib\\site-packages (from tensorboard<2.16,>=2.15->tensorflow-intel==2.15.0->tensorflow) (2.28.2)\n",
      "Requirement already satisfied: tensorboard-data-server<0.8.0,>=0.7.0 in c:\\users\\pavan\\appdata\\local\\programs\\python\\python310\\lib\\site-packages (from tensorboard<2.16,>=2.15->tensorflow-intel==2.15.0->tensorflow) (0.7.2)\n",
      "Requirement already satisfied: werkzeug>=1.0.1 in c:\\users\\pavan\\appdata\\local\\programs\\python\\python310\\lib\\site-packages (from tensorboard<2.16,>=2.15->tensorflow-intel==2.15.0->tensorflow) (2.1.2)\n",
      "Requirement already satisfied: pyparsing!=3.0.5,>=2.0.2 in c:\\users\\pavan\\appdata\\roaming\\python\\python310\\site-packages (from packaging->tensorflow-intel==2.15.0->tensorflow) (3.0.9)\n",
      "Requirement already satisfied: cachetools<6.0,>=2.0.0 in c:\\users\\pavan\\appdata\\local\\programs\\python\\python310\\lib\\site-packages (from google-auth<3,>=1.6.3->tensorboard<2.16,>=2.15->tensorflow-intel==2.15.0->tensorflow) (5.3.2)\n",
      "Requirement already satisfied: pyasn1-modules>=0.2.1 in c:\\users\\pavan\\appdata\\local\\programs\\python\\python310\\lib\\site-packages (from google-auth<3,>=1.6.3->tensorboard<2.16,>=2.15->tensorflow-intel==2.15.0->tensorflow) (0.3.0)\n",
      "Requirement already satisfied: rsa<5,>=3.1.4 in c:\\users\\pavan\\appdata\\local\\programs\\python\\python310\\lib\\site-packages (from google-auth<3,>=1.6.3->tensorboard<2.16,>=2.15->tensorflow-intel==2.15.0->tensorflow) (4.9)\n",
      "Requirement already satisfied: requests-oauthlib>=0.7.0 in c:\\users\\pavan\\appdata\\local\\programs\\python\\python310\\lib\\site-packages (from google-auth-oauthlib<2,>=0.5->tensorboard<2.16,>=2.15->tensorflow-intel==2.15.0->tensorflow) (1.3.1)\n",
      "Requirement already satisfied: charset-normalizer<4,>=2 in c:\\users\\pavan\\appdata\\local\\programs\\python\\python310\\lib\\site-packages (from requests<3,>=2.21.0->tensorboard<2.16,>=2.15->tensorflow-intel==2.15.0->tensorflow) (3.0.1)\n",
      "Requirement already satisfied: idna<4,>=2.5 in c:\\users\\pavan\\appdata\\local\\programs\\python\\python310\\lib\\site-packages (from requests<3,>=2.21.0->tensorboard<2.16,>=2.15->tensorflow-intel==2.15.0->tensorflow) (3.4)\n",
      "Requirement already satisfied: urllib3<1.27,>=1.21.1 in c:\\users\\pavan\\appdata\\local\\programs\\python\\python310\\lib\\site-packages (from requests<3,>=2.21.0->tensorboard<2.16,>=2.15->tensorflow-intel==2.15.0->tensorflow) (1.26.14)\n",
      "Requirement already satisfied: certifi>=2017.4.17 in c:\\users\\pavan\\appdata\\local\\programs\\python\\python310\\lib\\site-packages (from requests<3,>=2.21.0->tensorboard<2.16,>=2.15->tensorflow-intel==2.15.0->tensorflow) (2022.12.7)\n",
      "Requirement already satisfied: pyasn1<0.6.0,>=0.4.6 in c:\\users\\pavan\\appdata\\local\\programs\\python\\python310\\lib\\site-packages (from pyasn1-modules>=0.2.1->google-auth<3,>=1.6.3->tensorboard<2.16,>=2.15->tensorflow-intel==2.15.0->tensorflow) (0.5.1)\n",
      "Requirement already satisfied: oauthlib>=3.0.0 in c:\\users\\pavan\\appdata\\local\\programs\\python\\python310\\lib\\site-packages (from requests-oauthlib>=0.7.0->google-auth-oauthlib<2,>=0.5->tensorboard<2.16,>=2.15->tensorflow-intel==2.15.0->tensorflow) (3.2.2)\n"
     ]
    },
    {
     "name": "stderr",
     "output_type": "stream",
     "text": [
      "WARNING: Ignoring invalid distribution -ip (c:\\users\\pavan\\appdata\\local\\programs\\python\\python310\\lib\\site-packages)\n",
      "WARNING: Ignoring invalid distribution -ip (c:\\users\\pavan\\appdata\\local\\programs\\python\\python310\\lib\\site-packages)\n",
      "WARNING: There was an error checking the latest version of pip.\n"
     ]
    }
   ],
   "source": [
    "!pip install --upgrade tensorflow"
   ]
  },
  {
   "cell_type": "code",
   "execution_count": 6,
   "metadata": {
    "tags": []
   },
   "outputs": [
    {
     "name": "stdout",
     "output_type": "stream",
     "text": [
      "WARNING:tensorflow:From C:\\Users\\Pavan\\AppData\\Local\\Programs\\Python\\Python310\\lib\\site-packages\\keras\\src\\losses.py:2976: The name tf.losses.sparse_softmax_cross_entropy is deprecated. Please use tf.compat.v1.losses.sparse_softmax_cross_entropy instead.\n",
      "\n",
      "Libraries imported.\n",
      "TensorFlow version: 2.15.0\n"
     ]
    }
   ],
   "source": [
    "import tensorflow\n",
    "from tensorflow import keras\n",
    "from tensorflow.keras import models\n",
    "from tensorflow.keras.models import Sequential\n",
    "from tensorflow.keras.layers import Dense\n",
    "from tensorflow.keras import utils\n",
    "from tensorflow.keras import optimizers\n",
    "\n",
    "# Set random seed for reproducability\n",
    "tensorflow.random.set_seed(0)\n",
    "\n",
    "print(\"Libraries imported.\")\n",
    "# look the keras version and tetensorflow version\n",
    "# print('Keras version:',keras.__version__)\n",
    "print('TensorFlow version:',tensorflow.__version__)"
   ]
  },
  {
   "cell_type": "markdown",
   "metadata": {},
   "source": [
    "## Prepare the data for TensorFlow\n",
    "\n",
    "We've already loaded our data and split it into training and validation datasets. However, we need to do some further data preparation so that our data will work correctly with TensorFlow. Specifically, we need to set the data type of our features to 32-bit floating point numbers, and specify that the labels represent categorical classes rather than numeric values."
   ]
  },
  {
   "cell_type": "code",
   "execution_count": 7,
   "metadata": {
    "tags": []
   },
   "outputs": [
    {
     "name": "stdout",
     "output_type": "stream",
     "text": [
      "Ready...\n"
     ]
    }
   ],
   "source": [
    "# Set data types for float features\n",
    "x_train = x_train.astype('float32')\n",
    "x_test = x_test.astype('float32')\n",
    "\n",
    "# Set data types for categorical labels\n",
    "y_train = utils.to_categorical(y_train)\n",
    "y_test = utils.to_categorical(y_test)\n",
    "print('Ready...')"
   ]
  },
  {
   "cell_type": "markdown",
   "metadata": {},
   "source": [
    "## Define a neural network\n",
    "\n",
    "Now we're ready to define our neural network. In this case, we'll create a network that consists of 3 fully-connected layers:\n",
    "* An input layer that receives an input value for each feature (in this case, the four penguin measurements) and applies a *ReLU* activation function.\n",
    "* A hidden layer that receives ten inputs and applies a *ReLU* activation function.\n",
    "* An output layer that uses a *SoftMax* activation function to generate an output for each penguin species (which represent the classification probabilities for each of the three possible penguin species). Softmax functions produce a vector with probability values that sum to 1."
   ]
  },
  {
   "cell_type": "code",
   "execution_count": 8,
   "metadata": {
    "tags": []
   },
   "outputs": [
    {
     "name": "stdout",
     "output_type": "stream",
     "text": [
      "WARNING:tensorflow:From C:\\Users\\Pavan\\AppData\\Local\\Programs\\Python\\Python310\\lib\\site-packages\\keras\\src\\backend.py:873: The name tf.get_default_graph is deprecated. Please use tf.compat.v1.get_default_graph instead.\n",
      "\n",
      "Model: \"sequential\"\n",
      "_________________________________________________________________\n",
      " Layer (type)                Output Shape              Param #   \n",
      "=================================================================\n",
      " dense (Dense)               (None, 10)                50        \n",
      "                                                                 \n",
      " dense_1 (Dense)             (None, 10)                110       \n",
      "                                                                 \n",
      " dense_2 (Dense)             (None, 3)                 33        \n",
      "                                                                 \n",
      "=================================================================\n",
      "Total params: 193 (772.00 Byte)\n",
      "Trainable params: 193 (772.00 Byte)\n",
      "Non-trainable params: 0 (0.00 Byte)\n",
      "_________________________________________________________________\n",
      "None\n"
     ]
    }
   ],
   "source": [
    "# Define a classifier network\n",
    "hl = 10 # Number of hidden layer nodes\n",
    "\n",
    "model = Sequential()\n",
    "model.add(Dense(hl, input_dim=len(features), activation='relu'))\n",
    "model.add(Dense(hl, input_dim=hl, activation='relu'))\n",
    "model.add(Dense(len(penguin_classes), input_dim=hl, activation='softmax'))\n",
    "\n",
    "print(model.summary())"
   ]
  },
  {
   "cell_type": "markdown",
   "metadata": {},
   "source": [
    "## Train the model\n",
    "\n",
    "To train the model, we need to repeatedly feed the training values forward through the network, use a loss function to calculate the loss, use an optimizer to backpropagate the weight and bias value adjustments, and validate the model using the test data we withheld.\n",
    "\n",
    "To do this, we'll apply an Adam optimizer to a categorical cross-entropy loss function iteratively over 50 epochs."
   ]
  },
  {
   "cell_type": "code",
   "execution_count": 9,
   "metadata": {
    "scrolled": true,
    "tags": []
   },
   "outputs": [
    {
     "name": "stderr",
     "output_type": "stream",
     "text": [
      "WARNING:absl:`lr` is deprecated in Keras optimizer, please use `learning_rate` or use the legacy optimizer, e.g.,tf.keras.optimizers.legacy.Adam.\n"
     ]
    },
    {
     "name": "stdout",
     "output_type": "stream",
     "text": [
      "Epoch 1/50\n",
      "WARNING:tensorflow:From C:\\Users\\Pavan\\AppData\\Local\\Programs\\Python\\Python310\\lib\\site-packages\\keras\\src\\utils\\tf_utils.py:492: The name tf.ragged.RaggedTensorValue is deprecated. Please use tf.compat.v1.ragged.RaggedTensorValue instead.\n",
      "\n"
     ]
    },
    {
     "name": "stderr",
     "output_type": "stream",
     "text": [
      "WARNING:tensorflow:From C:\\Users\\Pavan\\AppData\\Local\\Programs\\Python\\Python310\\lib\\site-packages\\keras\\src\\utils\\tf_utils.py:492: The name tf.ragged.RaggedTensorValue is deprecated. Please use tf.compat.v1.ragged.RaggedTensorValue instead.\n",
      "\n"
     ]
    },
    {
     "name": "stdout",
     "output_type": "stream",
     "text": [
      "WARNING:tensorflow:From C:\\Users\\Pavan\\AppData\\Local\\Programs\\Python\\Python310\\lib\\site-packages\\keras\\src\\engine\\base_layer_utils.py:384: The name tf.executing_eagerly_outside_functions is deprecated. Please use tf.compat.v1.executing_eagerly_outside_functions instead.\n",
      "\n"
     ]
    },
    {
     "name": "stderr",
     "output_type": "stream",
     "text": [
      "WARNING:tensorflow:From C:\\Users\\Pavan\\AppData\\Local\\Programs\\Python\\Python310\\lib\\site-packages\\keras\\src\\engine\\base_layer_utils.py:384: The name tf.executing_eagerly_outside_functions is deprecated. Please use tf.compat.v1.executing_eagerly_outside_functions instead.\n",
      "\n"
     ]
    },
    {
     "name": "stdout",
     "output_type": "stream",
     "text": [
      "24/24 [==============================] - 1s 15ms/step - loss: 6.6572 - accuracy: 0.3724 - val_loss: 5.9531 - val_accuracy: 0.2427\n",
      "Epoch 2/50\n",
      "24/24 [==============================] - 0s 4ms/step - loss: 4.0576 - accuracy: 0.2636 - val_loss: 3.5580 - val_accuracy: 0.2136\n",
      "Epoch 3/50\n",
      "24/24 [==============================] - 0s 4ms/step - loss: 2.2065 - accuracy: 0.4142 - val_loss: 1.7350 - val_accuracy: 0.4175\n",
      "Epoch 4/50\n",
      "24/24 [==============================] - 0s 4ms/step - loss: 1.3143 - accuracy: 0.4728 - val_loss: 1.3188 - val_accuracy: 0.4175\n",
      "Epoch 5/50\n",
      "24/24 [==============================] - 0s 5ms/step - loss: 1.1084 - accuracy: 0.4895 - val_loss: 1.1803 - val_accuracy: 0.4660\n",
      "Epoch 6/50\n",
      "24/24 [==============================] - 0s 5ms/step - loss: 1.0223 - accuracy: 0.4937 - val_loss: 1.0915 - val_accuracy: 0.4757\n",
      "Epoch 7/50\n",
      "24/24 [==============================] - 0s 5ms/step - loss: 0.9692 - accuracy: 0.5188 - val_loss: 1.0354 - val_accuracy: 0.4854\n",
      "Epoch 8/50\n",
      "24/24 [==============================] - 0s 5ms/step - loss: 0.9227 - accuracy: 0.5816 - val_loss: 0.9730 - val_accuracy: 0.4563\n",
      "Epoch 9/50\n",
      "24/24 [==============================] - 0s 4ms/step - loss: 0.8733 - accuracy: 0.5649 - val_loss: 0.9304 - val_accuracy: 0.4854\n",
      "Epoch 10/50\n",
      "24/24 [==============================] - 0s 4ms/step - loss: 0.8359 - accuracy: 0.5774 - val_loss: 0.9040 - val_accuracy: 0.4854\n",
      "Epoch 11/50\n",
      "24/24 [==============================] - 0s 4ms/step - loss: 0.8167 - accuracy: 0.5816 - val_loss: 0.8693 - val_accuracy: 0.5049\n",
      "Epoch 12/50\n",
      "24/24 [==============================] - 0s 4ms/step - loss: 0.7929 - accuracy: 0.5858 - val_loss: 0.8486 - val_accuracy: 0.5049\n",
      "Epoch 13/50\n",
      "24/24 [==============================] - 0s 4ms/step - loss: 0.7744 - accuracy: 0.5900 - val_loss: 0.8192 - val_accuracy: 0.5243\n",
      "Epoch 14/50\n",
      "24/24 [==============================] - 0s 4ms/step - loss: 0.7627 - accuracy: 0.5858 - val_loss: 0.8072 - val_accuracy: 0.5146\n",
      "Epoch 15/50\n",
      "24/24 [==============================] - 0s 4ms/step - loss: 0.7462 - accuracy: 0.6067 - val_loss: 0.7852 - val_accuracy: 0.5340\n",
      "Epoch 16/50\n",
      "24/24 [==============================] - 0s 4ms/step - loss: 0.7400 - accuracy: 0.6192 - val_loss: 0.7686 - val_accuracy: 0.5534\n",
      "Epoch 17/50\n",
      "24/24 [==============================] - 0s 4ms/step - loss: 0.7203 - accuracy: 0.6067 - val_loss: 0.7650 - val_accuracy: 0.5631\n",
      "Epoch 18/50\n",
      "24/24 [==============================] - 0s 5ms/step - loss: 0.7085 - accuracy: 0.6192 - val_loss: 0.7423 - val_accuracy: 0.5631\n",
      "Epoch 19/50\n",
      "24/24 [==============================] - 0s 4ms/step - loss: 0.7007 - accuracy: 0.6318 - val_loss: 0.7395 - val_accuracy: 0.5728\n",
      "Epoch 20/50\n",
      "24/24 [==============================] - 0s 4ms/step - loss: 0.6924 - accuracy: 0.6234 - val_loss: 0.7270 - val_accuracy: 0.5728\n",
      "Epoch 21/50\n",
      "24/24 [==============================] - 0s 4ms/step - loss: 0.6777 - accuracy: 0.6192 - val_loss: 0.7066 - val_accuracy: 0.5728\n",
      "Epoch 22/50\n",
      "24/24 [==============================] - 0s 4ms/step - loss: 0.6795 - accuracy: 0.6360 - val_loss: 0.7085 - val_accuracy: 0.5922\n",
      "Epoch 23/50\n",
      "24/24 [==============================] - 0s 4ms/step - loss: 0.6661 - accuracy: 0.6485 - val_loss: 0.6885 - val_accuracy: 0.6214\n",
      "Epoch 24/50\n",
      "24/24 [==============================] - 0s 4ms/step - loss: 0.6687 - accuracy: 0.6485 - val_loss: 0.6815 - val_accuracy: 0.6311\n",
      "Epoch 25/50\n",
      "24/24 [==============================] - 0s 4ms/step - loss: 0.6586 - accuracy: 0.6234 - val_loss: 0.6706 - val_accuracy: 0.6311\n",
      "Epoch 26/50\n",
      "24/24 [==============================] - 0s 4ms/step - loss: 0.6446 - accuracy: 0.6611 - val_loss: 0.6745 - val_accuracy: 0.6408\n",
      "Epoch 27/50\n",
      "24/24 [==============================] - 0s 4ms/step - loss: 0.6431 - accuracy: 0.6402 - val_loss: 0.6576 - val_accuracy: 0.6408\n",
      "Epoch 28/50\n",
      "24/24 [==============================] - 0s 4ms/step - loss: 0.6284 - accuracy: 0.6862 - val_loss: 0.6465 - val_accuracy: 0.6602\n",
      "Epoch 29/50\n",
      "24/24 [==============================] - 0s 4ms/step - loss: 0.6236 - accuracy: 0.6695 - val_loss: 0.6418 - val_accuracy: 0.6505\n",
      "Epoch 30/50\n",
      "24/24 [==============================] - 0s 4ms/step - loss: 0.6156 - accuracy: 0.6987 - val_loss: 0.6286 - val_accuracy: 0.6699\n",
      "Epoch 31/50\n",
      "24/24 [==============================] - 0s 4ms/step - loss: 0.6122 - accuracy: 0.6987 - val_loss: 0.6214 - val_accuracy: 0.6505\n",
      "Epoch 32/50\n",
      "24/24 [==============================] - 0s 4ms/step - loss: 0.6112 - accuracy: 0.6736 - val_loss: 0.6265 - val_accuracy: 0.6796\n",
      "Epoch 33/50\n",
      "24/24 [==============================] - 0s 5ms/step - loss: 0.5996 - accuracy: 0.6987 - val_loss: 0.6129 - val_accuracy: 0.6893\n",
      "Epoch 34/50\n",
      "24/24 [==============================] - 0s 5ms/step - loss: 0.6000 - accuracy: 0.7029 - val_loss: 0.5982 - val_accuracy: 0.6990\n",
      "Epoch 35/50\n",
      "24/24 [==============================] - 0s 5ms/step - loss: 0.5883 - accuracy: 0.7029 - val_loss: 0.6043 - val_accuracy: 0.7087\n",
      "Epoch 36/50\n",
      "24/24 [==============================] - 0s 5ms/step - loss: 0.5829 - accuracy: 0.7029 - val_loss: 0.5900 - val_accuracy: 0.7087\n",
      "Epoch 37/50\n",
      "24/24 [==============================] - 0s 5ms/step - loss: 0.5846 - accuracy: 0.7322 - val_loss: 0.5837 - val_accuracy: 0.7087\n",
      "Epoch 38/50\n",
      "24/24 [==============================] - 0s 5ms/step - loss: 0.5751 - accuracy: 0.7238 - val_loss: 0.5776 - val_accuracy: 0.7184\n",
      "Epoch 39/50\n",
      "24/24 [==============================] - 0s 5ms/step - loss: 0.5696 - accuracy: 0.7322 - val_loss: 0.5670 - val_accuracy: 0.7476\n",
      "Epoch 40/50\n",
      "24/24 [==============================] - 0s 5ms/step - loss: 0.5654 - accuracy: 0.7238 - val_loss: 0.5699 - val_accuracy: 0.7282\n",
      "Epoch 41/50\n",
      "24/24 [==============================] - 0s 4ms/step - loss: 0.5563 - accuracy: 0.7490 - val_loss: 0.5557 - val_accuracy: 0.7573\n",
      "Epoch 42/50\n",
      "24/24 [==============================] - 0s 5ms/step - loss: 0.5537 - accuracy: 0.7406 - val_loss: 0.5537 - val_accuracy: 0.7476\n",
      "Epoch 43/50\n",
      "24/24 [==============================] - 0s 5ms/step - loss: 0.5502 - accuracy: 0.7531 - val_loss: 0.5476 - val_accuracy: 0.7670\n",
      "Epoch 44/50\n",
      "24/24 [==============================] - 0s 5ms/step - loss: 0.5487 - accuracy: 0.7531 - val_loss: 0.5578 - val_accuracy: 0.7476\n",
      "Epoch 45/50\n",
      "24/24 [==============================] - 0s 5ms/step - loss: 0.5433 - accuracy: 0.7531 - val_loss: 0.5335 - val_accuracy: 0.7573\n",
      "Epoch 46/50\n",
      "24/24 [==============================] - 0s 4ms/step - loss: 0.5303 - accuracy: 0.7573 - val_loss: 0.5435 - val_accuracy: 0.7767\n",
      "Epoch 47/50\n",
      "24/24 [==============================] - 0s 5ms/step - loss: 0.5303 - accuracy: 0.7866 - val_loss: 0.5237 - val_accuracy: 0.7767\n",
      "Epoch 48/50\n",
      "24/24 [==============================] - 0s 4ms/step - loss: 0.5338 - accuracy: 0.7448 - val_loss: 0.5227 - val_accuracy: 0.7864\n",
      "Epoch 49/50\n",
      "24/24 [==============================] - 0s 4ms/step - loss: 0.5219 - accuracy: 0.7615 - val_loss: 0.5127 - val_accuracy: 0.7961\n",
      "Epoch 50/50\n",
      "24/24 [==============================] - 0s 5ms/step - loss: 0.5115 - accuracy: 0.7782 - val_loss: 0.5043 - val_accuracy: 0.7961\n"
     ]
    }
   ],
   "source": [
    "#hyper-parameters for optimizer\n",
    "learning_rate = 0.001\n",
    "opt = optimizers.Adam(lr=learning_rate)\n",
    "\n",
    "model.compile(loss='categorical_crossentropy',\n",
    "              optimizer=opt,\n",
    "              metrics=['accuracy'])\n",
    "\n",
    "# Train the model over 50 epochs using 10-observation batches and using the test holdout dataset for validation\n",
    "num_epochs = 50\n",
    "history = model.fit(x_train, y_train, epochs=num_epochs, batch_size=10, validation_data=(x_test, y_test))"
   ]
  },
  {
   "cell_type": "markdown",
   "metadata": {},
   "source": [
    "While the training process is running, let's try to understand what's happening:\n",
    "\n",
    "1. In each *epoch*, the full set of training data is passed forward through the network. There are four features for each observation, and four corresponding nodes in the input layer - so the features for each observation are passed as a vector of four values to that layer. However, for efficiency, the feature vectors are grouped into batches; so actually a matrix of multiple feature vectors is fed in each time.\n",
    "2. The matrix of feature values is processed by a function that performs a weighted sum using initialized weights and bias values. The result of this function is then processed by the activation function for the input layer to constrain the values passed to the nodes in the next layer.\n",
    "3. The weighted sum and activation functions are repeated in each layer. Note that the functions operate on vectors and matrices rather than individual scalar values. In other words, the forward pass is essentially a series of nested linear algebra functions. This is the reason data scientists prefer to use computers with graphical processing units (GPUs), since these are optimized for matrix and vector calculations.\n",
    "4. In the final layer of the network, the output vectors contain a probability value for each possible class (in this case, classes 0, 1, and 2). This vector is processed by a *loss function* to determine how far the values calculated by the network are from the actual values - so for example, suppose the output for a Gentoo penguin (class 1) observation is \\[0.3, 0.4, 0.3\\]. The correct prediction should be \\[0.0, 1.0, 0.0\\], so the variance between the predicted and actual values (how far away the each predicted value is from what it should be) is \\[0.3, 0.6, 0.3\\]. This variance is aggregated for each batch and maintained as a running aggregate to calculate the overall level of error (*loss*) incurred by the training data for the epoch. The accuracy (proportion of correct predictions based on the highest probability value in the output vector) for the training data is also calculated.\n",
    "5. At the end of each epoch, the validation data is passed through the network, and its loss and accuracy are also calculated. It's important to do this because it enables us to compare the performance of the model using data on which it was not trained, helping us determine if it will generalize well for new data or if it's *overfitted* to the training data.\n",
    "6. After all the data has been passed forward through the network, the output of the loss function for the *training* data (but <u>not</u> the *validation* data) is passed to the opimizer. The precise details of how the optimizer processes the loss vary depending on the specific optimization algorithm being used; but fundamentally you can think of the entire network, from the input layer to the loss function as being one big nested (*composite*) function. The optimizer applies some differential calculus to calculate *partial derivatives* for the function with respect to each weight and bias value that was used in the network. It's possible to do this efficiently for a nested function due to something called the *chain rule*, which enables you to determine the derivative of a composite function from the derivatives of its inner function and outer functions. You don't really need to worry about the details of the math here (the optimizer does it for you), but the end result is that the partial derivatives tell us about the slope (or *gradient*) of the loss function with respect to each weight and bias value - in other words, we can determine whether to increase or decrease the weight and bias values in order to decrease the loss.\n",
    "7. Having determined in which direction to adjust the weights and biases, the optimizer uses the *learning rate* to determine by how much to adjust them; and then works backwards through the network in a process called *backpropagation* to assign new values to the weights and biases in each layer.\n",
    "8. Now the next epoch repeats the whole training, validation, and backpropagation process starting with the revised weights and biases from the previous epoch - which hopefully will result in a lower level of loss.\n",
    "9. The process continues like this for 50 epochs.\n",
    "\n",
    "## Review training and validation loss\n",
    "\n",
    "After training is complete, we can examine the loss metrics we recorded while training and validating the model. We're really looking for two things:\n",
    "* The loss should reduce with each epoch, showing that the model is learning the right weights and biases to predict the correct labels.\n",
    "* The training loss and validation loss should follow a similar trend, showing that the model is not overfitting to the training data.\n",
    "\n",
    "Let's plot the loss metrics and see:"
   ]
  },
  {
   "cell_type": "code",
   "execution_count": 10,
   "metadata": {},
   "outputs": [
    {
     "data": {
      "image/png": "[encoded data removed]",
      "text/plain": [
       "<Figure size 640x480 with 1 Axes>"
      ]
     },
     "metadata": {},
     "output_type": "display_data"
    }
   ],
   "source": [
    "%matplotlib inline\n",
    "from matplotlib import pyplot as plt\n",
    "\n",
    "epoch_nums = range(1,num_epochs+1)\n",
    "training_loss = history.history[\"loss\"]\n",
    "validation_loss = history.history[\"val_loss\"]\n",
    "plt.plot(epoch_nums, training_loss)\n",
    "plt.plot(epoch_nums, validation_loss)\n",
    "plt.xlabel('epoch')\n",
    "plt.ylabel('loss')\n",
    "plt.legend(['training', 'validation'], loc='upper right')\n",
    "plt.show()"
   ]
  },
  {
   "cell_type": "markdown",
   "metadata": {},
   "source": [
    "## View the learned weights and biases\n",
    "\n",
    "The trained model consists of the final weights and biases that were determined by the optimizer during training. Based on our network model we should expect the following values for each layer:\n",
    "* Layer 1: There are four input values going to ten output nodes, so there should be 4 x 10 weights and 10 bias values.\n",
    "* Layer 2: There are ten input values going to ten output nodes, so there should be 10 x 10 weights and 10 bias values.\n",
    "* Layer 3: There are ten input values going to three output nodes, so there should be 10 x 3 weights and 3 bias values."
   ]
  },
  {
   "cell_type": "code",
   "execution_count": 11,
   "metadata": {
    "tags": []
   },
   "outputs": [
    {
     "name": "stdout",
     "output_type": "stream",
     "text": [
      "------------\n",
      "Weights:\n",
      " [[-0.19094929 -0.6064724   0.26299238 -0.4965126   0.4030637   0.24844801\n",
      "   0.44018412 -0.4750531  -0.37993038 -0.5315972 ]\n",
      " [ 0.417894   -0.5674476  -0.30437502 -0.15508746  0.08655535 -0.6025831\n",
      "  -0.14821188  0.27369484 -0.02923453 -0.5338521 ]\n",
      " [-0.62091255 -0.5698478   0.38261002 -0.32320654  0.08461085 -0.36181244\n",
      "   0.09441894  0.31290677 -0.4188236   0.02773118]\n",
      " [-0.02383363 -0.45839638  0.42553824  0.5393557  -0.38681233 -0.4544005\n",
      "   0.4671929   0.3411689  -0.16094306  0.5154835 ]] \n",
      "Biases:\n",
      " [ 0.          0.          0.09982841 -0.05892961  0.05454285  0.\n",
      " -0.09003149 -0.06550152  0.          0.        ]\n",
      "------------\n",
      "Weights:\n",
      " [[-0.44611394 -0.5125361   0.42588115 -0.08721295 -0.14689851  0.36006767\n",
      "   0.2747929   0.26904917 -0.21570963  0.17331356]\n",
      " [-0.15789813  0.05752957 -0.15275049 -0.2367779   0.47901523  0.29674774\n",
      "   0.16571248  0.37993824 -0.01467317 -0.09437695]\n",
      " [-0.2846893  -0.26972222 -0.49297282 -0.60760474 -0.34924465  0.11411601\n",
      "  -0.3348942  -0.12999463  0.11464913  0.23975939]\n",
      " [ 0.40612876  0.5195788   0.01196855 -0.06650254 -0.04122704  0.01089215\n",
      "  -0.12459995  0.04075432 -0.48228183 -0.07601532]\n",
      " [-0.52721906  0.67984784  0.24045044 -0.12707435  0.23290782  0.38640374\n",
      "   0.2525751   0.05028379 -0.7428381   0.06520177]\n",
      " [ 0.38320994 -0.0301488   0.45051867 -0.1949482   0.26272494  0.01920182\n",
      "   0.4379717  -0.17363155 -0.06334394  0.26403463]\n",
      " [-0.25995296  0.18508093  0.18005174  0.34940505  0.19991918 -0.4129324\n",
      "   0.16282302 -0.23336306  0.09115026  0.18720968]\n",
      " [ 0.4168265  -0.44763425 -0.07421729  0.48390377  0.29462752  0.4026357\n",
      "  -0.10936879  0.41781843  0.03625435 -0.21133132]\n",
      " [-0.53249073  0.34162068  0.4028778  -0.37665945 -0.3598513   0.36230266\n",
      "  -0.3885106   0.34312177 -0.20980525 -0.17691305]\n",
      " [-0.04188979  0.2886576   0.5236784  -0.15044537 -0.46890953 -0.28671655\n",
      "   0.41118604 -0.28658715  0.44710326 -0.41378814]] \n",
      "Biases:\n",
      " [ 0.         -0.07725736  0.         -0.06451128 -0.10522752  0.\n",
      " -0.01833117  0.         -0.16974548  0.1103681 ]\n",
      "------------\n",
      "Weights:\n",
      " [[-0.02124041 -0.4092114   0.19562238]\n",
      " [-0.28061315 -0.82485646  0.56791365]\n",
      " [ 0.11400944 -0.34932783  0.5010344 ]\n",
      " [-0.51734143  0.4089394  -0.05826497]\n",
      " [ 0.1663119   0.29606774  0.49722117]\n",
      " [-0.03329432  0.50405335 -0.11259413]\n",
      " [-0.2088434   0.24163574  0.6008763 ]\n",
      " [-0.34404394 -0.12020087 -0.29404837]\n",
      " [-0.40790424  0.21799433 -0.87328255]\n",
      " [-0.12131519 -0.2509563  -0.15948398]] \n",
      "Biases:\n",
      " [ 0.4333869  -0.34152398 -0.31360123]\n"
     ]
    }
   ],
   "source": [
    "for layer in model.layers:\n",
    "    weights = layer.get_weights()[0]\n",
    "    biases = layer.get_weights()[1]\n",
    "    print('------------\\nWeights:\\n',weights,'\\nBiases:\\n', biases)"
   ]
  },
  {
   "cell_type": "markdown",
   "metadata": {},
   "source": [
    "## Evaluate model performance\n",
    "\n",
    "So, is the model any good? The raw accuracy reported from the validation data would seem to indicate that it predicts pretty well; but it's typically useful to dig a little deeper and compare the predictions for each possible class. A common way to visualize the performance of a classification model is to create a *confusion matrix* that shows a crosstab of correct and incorrect predictions for each class."
   ]
  },
  {
   "cell_type": "code",
   "execution_count": 12,
   "metadata": {},
   "outputs": [
    {
     "name": "stdout",
     "output_type": "stream",
     "text": [
      "4/4 [==============================] - 0s 3ms/step\n"
     ]
    },
    {
     "data": {
      "image/png": "[encoded data removed]",
      "text/plain": [
       "<Figure size 640x480 with 2 Axes>"
      ]
     },
     "metadata": {},
     "output_type": "display_data"
    }
   ],
   "source": [
    "# Tensorflow doesn't have a built-in confusion matrix metric, so we'll use SciKit-Learn\n",
    "import numpy as np\n",
    "from sklearn.metrics import confusion_matrix\n",
    "import matplotlib.pyplot as plt\n",
    "%matplotlib inline\n",
    "\n",
    "\n",
    "class_probabilities = model.predict(x_test)\n",
    "predictions = np.argmax(class_probabilities, axis=1)\n",
    "true_labels = np.argmax(y_test, axis=1)\n",
    "\n",
    "# Plot the confusion matrix\n",
    "cm = confusion_matrix(true_labels, predictions)\n",
    "plt.imshow(cm, interpolation=\"nearest\", cmap=plt.cm.Blues)\n",
    "plt.colorbar()\n",
    "tick_marks = np.arange(len(penguin_classes))\n",
    "plt.xticks(tick_marks, penguin_classes, rotation=85)\n",
    "plt.yticks(tick_marks, penguin_classes)\n",
    "plt.xlabel(\"Predicted Species\")\n",
    "plt.ylabel(\"Actual Species\")\n",
    "plt.show()"
   ]
  },
  {
   "cell_type": "markdown",
   "metadata": {},
   "source": [
    "The confusion matrix should show a strong diagonal line indicating that there are more correct than incorrect predictions for each class.\n",
    "\n",
    "## Save the trained model\n",
    "Now that we have a model we believe is reasonably accurate, we can save its trained weights for use later."
   ]
  },
  {
   "cell_type": "code",
   "execution_count": 13,
   "metadata": {},
   "outputs": [
    {
     "name": "stdout",
     "output_type": "stream",
     "text": [
      "model saved as models/penguin-classifier.h5\n"
     ]
    },
    {
     "name": "stderr",
     "output_type": "stream",
     "text": [
      "C:\\Users\\Pavan\\AppData\\Local\\Programs\\Python\\Python310\\lib\\site-packages\\keras\\src\\engine\\training.py:3103: UserWarning: You are saving your model as an HDF5 file via `model.save()`. This file format is considered legacy. We recommend using instead the native Keras format, e.g. `model.save('my_model.keras')`.\n",
      "  saving_api.save_model(\n"
     ]
    }
   ],
   "source": [
    "# Save the trained model\n",
    "modelFileName = 'models/penguin-classifier.h5'\n",
    "model.save(modelFileName)\n",
    "del model  # deletes the existing model variable\n",
    "print('model saved as', modelFileName)"
   ]
  },
  {
   "cell_type": "markdown",
   "metadata": {},
   "source": [
    "## Use the trained model\n",
    "\n",
    "When we have a new penguin observation, we can use the model to predict the species."
   ]
  },
  {
   "cell_type": "code",
   "execution_count": 14,
   "metadata": {
    "tags": []
   },
   "outputs": [
    {
     "name": "stdout",
     "output_type": "stream",
     "text": [
      "New sample: [[50.4 15.3 20.  50. ]]\n",
      "1/1 [==============================] - 0s 63ms/step\n",
      "Gentoo\n"
     ]
    }
   ],
   "source": [
    "# Load the saved model\n",
    "model = models.load_model(modelFileName)\n",
    "\n",
    "# CReate a new array of features\n",
    "x_new = np.array([[50.4,15.3,20,50]])\n",
    "print ('New sample: {}'.format(x_new))\n",
    "\n",
    "# Use the model to predict the class\n",
    "class_probabilities = model.predict(x_new)\n",
    "predictions = np.argmax(class_probabilities, axis=1)\n",
    "\n",
    "print(penguin_classes[predictions[0]])"
   ]
  }
 ],
 "metadata": {
  "kernelspec": {
   "display_name": "Python 3 (ipykernel)",
   "language": "python",
   "name": "python3"
  },
  "language_info": {
   "codemirror_mode": {
    "name": "ipython",
    "version": 3
   },
   "file_extension": ".py",
   "mimetype": "text/x-python",
   "name": "python",
   "nbconvert_exporter": "python",
   "pygments_lexer": "ipython3",
   "version": "3.10.7"
  }
 },
 "nbformat": 4,
 "nbformat_minor": 4
}
